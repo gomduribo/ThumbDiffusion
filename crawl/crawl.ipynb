{
 "cells": [
  {
   "cell_type": "markdown",
   "id": "322c3093",
   "metadata": {},
   "source": [
    "## Youtube에서 썸네일 URL과 title 긁어와서 csv파일로 저장"
   ]
  },
  {
   "cell_type": "code",
   "execution_count": 2,
   "id": "e4a4fe54",
   "metadata": {},
   "outputs": [],
   "source": [
    "from googleapiclient.discovery import build\n",
    "from googleapiclient.errors import HttpError\n",
    "from oauth2client.tools import argparser\n",
    "import pandas as pd\n",
    "\n",
    "# https://console.cloud.google.com/apis/credentials 여기서 API발급받아 사용\n",
    "DEVELOPER_KEY='' # 내 API 키값 입력\n",
    "YOUTUBE_API_SERVICE_NAME='youtube'\n",
    "YOUTUBE_API_VERSION='v3'\n",
    "\n",
    "youtube=build(YOUTUBE_API_SERVICE_NAME,YOUTUBE_API_VERSION,developerKey=DEVELOPER_KEY)"
   ]
  },
  {
   "cell_type": "code",
   "execution_count": 7,
   "id": "06f6773f",
   "metadata": {},
   "outputs": [
    {
     "name": "stdout",
     "output_type": "stream",
     "text": [
      "Playlist num of Zane Travel: 3\n",
      "Zane Travel's PlayList0->8 videos processing ...\n",
      "Zane Travel's PlayList1->26 videos processing ...\n",
      "Zane Travel's PlayList2->24 videos processing ...\n",
      "Playlist num of Indigo Traveller: 44\n",
      "Indigo Traveller's PlayList0->4 videos processing ...\n",
      "Indigo Traveller's PlayList1->4 videos processing ...\n",
      "Indigo Traveller's PlayList2->6 videos processing ...\n",
      "Indigo Traveller's PlayList3->6 videos processing ...\n",
      "Indigo Traveller's PlayList4->6 videos processing ...\n",
      "Indigo Traveller's PlayList5->5 videos processing ...\n",
      "Indigo Traveller's PlayList6->5 videos processing ...\n",
      "Indigo Traveller's PlayList7->3 videos processing ...\n",
      "Indigo Traveller's PlayList8->5 videos processing ...\n",
      "Indigo Traveller's PlayList9->8 videos processing ...\n",
      "Indigo Traveller's PlayList10->9 videos processing ...\n",
      "Indigo Traveller's PlayList11->11 videos processing ...\n",
      "Indigo Traveller's PlayList12->8 videos processing ...\n",
      "Indigo Traveller's PlayList13->6 videos processing ...\n",
      "Indigo Traveller's PlayList14->15 videos processing ...\n",
      "Indigo Traveller's PlayList15->6 videos processing ...\n",
      "Indigo Traveller's PlayList16->15 videos processing ...\n",
      "Indigo Traveller's PlayList17->7 videos processing ...\n",
      "Indigo Traveller's PlayList18->5 videos processing ...\n",
      "Indigo Traveller's PlayList19->4 videos processing ...\n",
      "Indigo Traveller's PlayList20->11 videos processing ...\n",
      "Indigo Traveller's PlayList21->9 videos processing ...\n",
      "Indigo Traveller's PlayList22->8 videos processing ...\n",
      "Indigo Traveller's PlayList23->19 videos processing ...\n",
      "Indigo Traveller's PlayList24->12 videos processing ...\n",
      "Indigo Traveller's PlayList25->5 videos processing ...\n",
      "Indigo Traveller's PlayList26->5 videos processing ...\n",
      "Indigo Traveller's PlayList27->15 videos processing ...\n",
      "Indigo Traveller's PlayList28->11 videos processing ...\n",
      "Indigo Traveller's PlayList29->19 videos processing ...\n",
      "Indigo Traveller's PlayList30->8 videos processing ...\n",
      "Indigo Traveller's PlayList31->17 videos processing ...\n",
      "Indigo Traveller's PlayList32->11 videos processing ...\n",
      "Indigo Traveller's PlayList33->7 videos processing ...\n",
      "Indigo Traveller's PlayList34->24 videos processing ...\n",
      "Indigo Traveller's PlayList35->8 videos processing ...\n",
      "Indigo Traveller's PlayList36->39 videos processing ...\n",
      "Indigo Traveller's PlayList37->8 videos processing ...\n",
      "Indigo Traveller's PlayList38->12 videos processing ...\n",
      "Indigo Traveller's PlayList39->15 videos processing ...\n",
      "Indigo Traveller's PlayList40->29 videos processing ...\n",
      "Indigo Traveller's PlayList41->23 videos processing ...\n",
      "Indigo Traveller's PlayList42->28 videos processing ...\n",
      "Indigo Traveller's PlayList43->10 videos processing ...\n",
      "Playlist num of ON World Travel: 23\n",
      "ON World Travel's PlayList0->5 videos processing ...\n",
      "ON World Travel's PlayList1->5 videos processing ...\n",
      "ON World Travel's PlayList2->5 videos processing ...\n",
      "ON World Travel's PlayList3->2 videos processing ...\n",
      "ON World Travel's PlayList4->50 videos processing ...\n",
      "ON World Travel's PlayList5->50 videos processing ...\n",
      "ON World Travel's PlayList6->3 videos processing ...\n",
      "ON World Travel's PlayList7->4 videos processing ...\n",
      "ON World Travel's PlayList8->3 videos processing ...\n",
      "ON World Travel's PlayList9->4 videos processing ...\n",
      "ON World Travel's PlayList10->9 videos processing ...\n",
      "ON World Travel's PlayList11->6 videos processing ...\n",
      "ON World Travel's PlayList12->3 videos processing ...\n",
      "ON World Travel's PlayList13->7 videos processing ...\n",
      "ON World Travel's PlayList14->17 videos processing ...\n",
      "ON World Travel's PlayList15->30 videos processing ...\n",
      "ON World Travel's PlayList16->17 videos processing ...\n",
      "ON World Travel's PlayList17->23 videos processing ...\n",
      "ON World Travel's PlayList18->11 videos processing ...\n",
      "ON World Travel's PlayList19->48 videos processing ...\n",
      "ON World Travel's PlayList20->7 videos processing ...\n",
      "ON World Travel's PlayList21->3 videos processing ...\n",
      "ON World Travel's PlayList22->44 videos processing ...\n"
     ]
    }
   ],
   "source": [
    "Channels=[\"Zane Travel\", \"Indigo Traveller\",\"ON World Travel\"]\n",
    "video_names=[]\n",
    "video_ids=[]\n",
    "url=[]\n",
    "for Channel in Channels:\n",
    "    search_response=youtube.search().list(\n",
    "        q=Channel,\n",
    "        order='relevance',\n",
    "        part='snippet',\n",
    "        maxResults=50,\n",
    "    ).execute()\n",
    "#     print(search_response['items'])\n",
    "    channel_id=search_response['items'][0]['id']['channelId']\n",
    "    channel_playlists=youtube.playlists().list(\n",
    "        channelId=channel_id,\n",
    "        part='snippet',\n",
    "        maxResults=50).execute()\n",
    "    print(f\"Playlist num of {Channel}: {len(channel_playlists['items'])}\")\n",
    "    ids=[]\n",
    "    titles=[]\n",
    "    for i in channel_playlists['items']:\n",
    "        ids.append(i['id'])\n",
    "        titles.append(i['snippet']['title'])\n",
    "    df=pd.DataFrame([ids,titles]).T\n",
    "    df.columns=['PlayLists','Titles']\n",
    "    for n in range(0,len(channel_playlists['items'])):\n",
    "#         print(f\"{Channel}'s PlayList{n}->{len(playlistitems_list_response['items'])} videos processing ...\")\n",
    "        dtcu=df['PlayLists'][n] # 0,1,2\n",
    "        playlist_videos=youtube.playlistItems().list(\n",
    "            playlistId=dtcu,\n",
    "            part='snippet',\n",
    "            maxResults=50)\n",
    "        playlistitems_list_response=playlist_videos.execute()\n",
    "        print(f\"{Channel}'s PlayList{n}->{len(playlistitems_list_response['items'])} videos processing ...\")\n",
    "#         print(len(playlistitems_list_response['items']))\n",
    "        for v in playlistitems_list_response['items']:\n",
    "            if(v['snippet']['thumbnails']=={}):\n",
    "                continue\n",
    "            else:\n",
    "                try:\n",
    "                    url.append(v['snippet']['thumbnails']['standard']['url'])\n",
    "                except:\n",
    "                    url.append(v['snippet']['thumbnails']['high']['url'])\n",
    "            video_names.append(v['snippet']['title'])\n",
    "\n",
    "    \n",
    "vdf=pd.DataFrame([url,video_names]).T\n",
    "vdf.columns=['Thumbnail URL','Title']\n",
    "    "
   ]
  },
  {
   "cell_type": "code",
   "execution_count": 8,
   "id": "bd8dcd6d",
   "metadata": {},
   "outputs": [
    {
     "data": {
      "text/html": [
       "<div>\n",
       "<style scoped>\n",
       "    .dataframe tbody tr th:only-of-type {\n",
       "        vertical-align: middle;\n",
       "    }\n",
       "\n",
       "    .dataframe tbody tr th {\n",
       "        vertical-align: top;\n",
       "    }\n",
       "\n",
       "    .dataframe thead th {\n",
       "        text-align: right;\n",
       "    }\n",
       "</style>\n",
       "<table border=\"1\" class=\"dataframe\">\n",
       "  <thead>\n",
       "    <tr style=\"text-align: right;\">\n",
       "      <th></th>\n",
       "      <th>Thumbnail URL</th>\n",
       "      <th>Title</th>\n",
       "    </tr>\n",
       "  </thead>\n",
       "  <tbody>\n",
       "    <tr>\n",
       "      <th>0</th>\n",
       "      <td>https://i.ytimg.com/vi/KknNmrixt9Y/sddefault.jpg</td>\n",
       "      <td>MY FIRST TIME in Vietnam 🇻🇳 Ho Chi Minh City (...</td>\n",
       "    </tr>\n",
       "    <tr>\n",
       "      <th>1</th>\n",
       "      <td>https://i.ytimg.com/vi/h0Ia7Ddt88Q/sddefault.jpg</td>\n",
       "      <td>AMAZING FIRST IMPRESSIONS of Ho Chi Minh City ...</td>\n",
       "    </tr>\n",
       "    <tr>\n",
       "      <th>2</th>\n",
       "      <td>https://i.ytimg.com/vi/3xI5Ig2mXhc/sddefault.jpg</td>\n",
       "      <td>$45 LUXURY Airbnb Condo in Thao Dien 🇻🇳 DIGITA...</td>\n",
       "    </tr>\n",
       "    <tr>\n",
       "      <th>3</th>\n",
       "      <td>https://i.ytimg.com/vi/7EfERkvUEcY/sddefault.jpg</td>\n",
       "      <td>This is How They Treat you in VIETNAM 🇻🇳 STREE...</td>\n",
       "    </tr>\n",
       "    <tr>\n",
       "      <th>4</th>\n",
       "      <td>https://i.ytimg.com/vi/zfZsSSl0IMM/sddefault.jpg</td>\n",
       "      <td>Inside Rich Vietnam 🇻🇳 SHOCKING Thao Dien (Ho ...</td>\n",
       "    </tr>\n",
       "    <tr>\n",
       "      <th>...</th>\n",
       "      <td>...</td>\n",
       "      <td>...</td>\n",
       "    </tr>\n",
       "    <tr>\n",
       "      <th>891</th>\n",
       "      <td>https://i.ytimg.com/vi/sOm8DfbyF1s/sddefault.jpg</td>\n",
       "      <td>What to EXPECT hiking Table Mountain &amp; Lion's ...</td>\n",
       "    </tr>\n",
       "    <tr>\n",
       "      <th>892</th>\n",
       "      <td>https://i.ytimg.com/vi/walaHUkoCGE/sddefault.jpg</td>\n",
       "      <td>Cape Town's Most Affluent Suburbs (where touri...</td>\n",
       "    </tr>\n",
       "    <tr>\n",
       "      <th>893</th>\n",
       "      <td>https://i.ytimg.com/vi/zSYCjfG0J3g/sddefault.jpg</td>\n",
       "      <td>The problem with Madeira</td>\n",
       "    </tr>\n",
       "    <tr>\n",
       "      <th>894</th>\n",
       "      <td>https://i.ytimg.com/vi/zp8FQFVyFOw/sddefault.jpg</td>\n",
       "      <td>EDINBURGH SCOTLAND TRAVEL GUIDE 2023</td>\n",
       "    </tr>\n",
       "    <tr>\n",
       "      <th>895</th>\n",
       "      <td>https://i.ytimg.com/vi/tCeSP36C7g0/sddefault.jpg</td>\n",
       "      <td>Cyprus Travel Guide | Ayia Napa, Nissi Beach, ...</td>\n",
       "    </tr>\n",
       "  </tbody>\n",
       "</table>\n",
       "<p>896 rows × 2 columns</p>\n",
       "</div>"
      ],
      "text/plain": [
       "                                        Thumbnail URL  \\\n",
       "0    https://i.ytimg.com/vi/KknNmrixt9Y/sddefault.jpg   \n",
       "1    https://i.ytimg.com/vi/h0Ia7Ddt88Q/sddefault.jpg   \n",
       "2    https://i.ytimg.com/vi/3xI5Ig2mXhc/sddefault.jpg   \n",
       "3    https://i.ytimg.com/vi/7EfERkvUEcY/sddefault.jpg   \n",
       "4    https://i.ytimg.com/vi/zfZsSSl0IMM/sddefault.jpg   \n",
       "..                                                ...   \n",
       "891  https://i.ytimg.com/vi/sOm8DfbyF1s/sddefault.jpg   \n",
       "892  https://i.ytimg.com/vi/walaHUkoCGE/sddefault.jpg   \n",
       "893  https://i.ytimg.com/vi/zSYCjfG0J3g/sddefault.jpg   \n",
       "894  https://i.ytimg.com/vi/zp8FQFVyFOw/sddefault.jpg   \n",
       "895  https://i.ytimg.com/vi/tCeSP36C7g0/sddefault.jpg   \n",
       "\n",
       "                                                 Title  \n",
       "0    MY FIRST TIME in Vietnam 🇻🇳 Ho Chi Minh City (...  \n",
       "1    AMAZING FIRST IMPRESSIONS of Ho Chi Minh City ...  \n",
       "2    $45 LUXURY Airbnb Condo in Thao Dien 🇻🇳 DIGITA...  \n",
       "3    This is How They Treat you in VIETNAM 🇻🇳 STREE...  \n",
       "4    Inside Rich Vietnam 🇻🇳 SHOCKING Thao Dien (Ho ...  \n",
       "..                                                 ...  \n",
       "891  What to EXPECT hiking Table Mountain & Lion's ...  \n",
       "892  Cape Town's Most Affluent Suburbs (where touri...  \n",
       "893                           The problem with Madeira  \n",
       "894               EDINBURGH SCOTLAND TRAVEL GUIDE 2023  \n",
       "895  Cyprus Travel Guide | Ayia Napa, Nissi Beach, ...  \n",
       "\n",
       "[896 rows x 2 columns]"
      ]
     },
     "execution_count": 8,
     "metadata": {},
     "output_type": "execute_result"
    }
   ],
   "source": [
    "vdf"
   ]
  },
  {
   "cell_type": "code",
   "execution_count": null,
   "id": "f6c78d2f",
   "metadata": {},
   "outputs": [],
   "source": [
    "# 만들어진 dataframe을 csv파일로 저장\n",
    "vdf.to_csv(\"./URL_Title_List.csv\")"
   ]
  },
  {
   "cell_type": "markdown",
   "id": "05137a50",
   "metadata": {},
   "source": [
    "## csv 파일에 있는 썸네일을 저장하고, 제목을 txt파일에 추가"
   ]
  },
  {
   "cell_type": "code",
   "execution_count": 18,
   "id": "b08ec26b",
   "metadata": {},
   "outputs": [],
   "source": [
    "from requests import get"
   ]
  },
  {
   "cell_type": "code",
   "execution_count": 9,
   "id": "ccfe929b",
   "metadata": {},
   "outputs": [],
   "source": [
    "loaded_df=pd.read_csv(\"./URL_Title_List.csv\")"
   ]
  },
  {
   "cell_type": "code",
   "execution_count": 11,
   "id": "922e7755",
   "metadata": {},
   "outputs": [
    {
     "data": {
      "text/plain": [
       "(896, 3)"
      ]
     },
     "execution_count": 11,
     "metadata": {},
     "output_type": "execute_result"
    }
   ],
   "source": [
    "loaded_df.shape"
   ]
  },
  {
   "cell_type": "code",
   "execution_count": 14,
   "id": "d5e15bfa",
   "metadata": {},
   "outputs": [
    {
     "data": {
      "text/plain": [
       "'https://i.ytimg.com/vi/KknNmrixt9Y/sddefault.jpg'"
      ]
     },
     "execution_count": 14,
     "metadata": {},
     "output_type": "execute_result"
    }
   ],
   "source": [
    "loaded_df.loc[0]['Thumbnail URL']"
   ]
  },
  {
   "cell_type": "code",
   "execution_count": 15,
   "id": "27f0c843",
   "metadata": {},
   "outputs": [
    {
     "data": {
      "text/plain": [
       "'MY FIRST TIME in Vietnam 🇻🇳 Ho Chi Minh City (Saigon) is REMARKABLE!'"
      ]
     },
     "execution_count": 15,
     "metadata": {},
     "output_type": "execute_result"
    }
   ],
   "source": [
    "loaded_df.loc[0]['Title']"
   ]
  },
  {
   "cell_type": "code",
   "execution_count": 23,
   "id": "14c3f79d",
   "metadata": {},
   "outputs": [
    {
     "name": "stdout",
     "output_type": "stream",
     "text": [
      "0----\n",
      "https://i.ytimg.com/vi/KknNmrixt9Y/sddefault.jpg\n",
      "MY FIRST TIME in Vietnam 🇻🇳 Ho Chi Minh City (Saigon) is REMARKABLE!\n",
      "-----\n",
      "1----\n",
      "https://i.ytimg.com/vi/h0Ia7Ddt88Q/sddefault.jpg\n",
      "AMAZING FIRST IMPRESSIONS of Ho Chi Minh City (Saigon) Vietnam 🇻🇳\n",
      "-----\n",
      "2----\n",
      "https://i.ytimg.com/vi/3xI5Ig2mXhc/sddefault.jpg\n",
      "$45 LUXURY Airbnb Condo in Thao Dien 🇻🇳 DIGITAL NOMAD in Ho Chi Minh City (Saigon) Vietnam\n",
      "-----\n",
      "3----\n",
      "https://i.ytimg.com/vi/7EfERkvUEcY/sddefault.jpg\n",
      "This is How They Treat you in VIETNAM 🇻🇳 STREET FOOD in District 4 | Ho Chi Minh City (Saigon)\n",
      "-----\n",
      "4----\n",
      "https://i.ytimg.com/vi/zfZsSSl0IMM/sddefault.jpg\n",
      "Inside Rich Vietnam 🇻🇳 SHOCKING Thao Dien (Ho Chi Minh City) Area\n",
      "-----\n",
      "5----\n",
      "https://i.ytimg.com/vi/AkSWY4rBc4A/sddefault.jpg\n",
      "Vietnam's Biggest Banh Mi *FAMOUS* 🇻🇳 Ho Chi Minh City (Saigon)\n",
      "-----\n",
      "6----\n",
      "https://i.ytimg.com/vi/FXg8ksz2KF4/sddefault.jpg\n",
      "THE BEST AREA in Saigon...(by far?) | INCREDIBLE Ho Chi Minh City, Vietnam 🇻🇳\n",
      "-----\n",
      "7----\n",
      "https://i.ytimg.com/vi/nYcV43jqKzI/sddefault.jpg\n",
      "STREET FOOD HEAVEN in Ho Chi Minh City (Saigon) 🇻🇳 | Vietnam\n",
      "-----\n",
      "8----\n",
      "https://i.ytimg.com/vi/xTZblAWYS4s/sddefault.jpg\n",
      "My FIRST TIME in Bonifacio Global City (BGC) 🇵🇭 SHOCKED this is Manila | Philippines\n"
     ]
    },
    {
     "ename": "KeyboardInterrupt",
     "evalue": "",
     "output_type": "error",
     "traceback": [
      "\u001b[0;31m---------------------------------------------------------------------------\u001b[0m",
      "\u001b[0;31mKeyboardInterrupt\u001b[0m                         Traceback (most recent call last)",
      "Cell \u001b[0;32mIn[23], line 15\u001b[0m\n\u001b[1;32m     13\u001b[0m     \u001b[38;5;28mprint\u001b[39m(loaded_df\u001b[38;5;241m.\u001b[39mloc[i][\u001b[38;5;124m'\u001b[39m\u001b[38;5;124mThumbnail URL\u001b[39m\u001b[38;5;124m'\u001b[39m])\n\u001b[1;32m     14\u001b[0m     \u001b[38;5;28mprint\u001b[39m(loaded_df\u001b[38;5;241m.\u001b[39mloc[i][\u001b[38;5;124m'\u001b[39m\u001b[38;5;124mTitle\u001b[39m\u001b[38;5;124m'\u001b[39m])\n\u001b[0;32m---> 15\u001b[0m     \u001b[43mdownload\u001b[49m\u001b[43m(\u001b[49m\u001b[43mloaded_df\u001b[49m\u001b[38;5;241;43m.\u001b[39;49m\u001b[43mloc\u001b[49m\u001b[43m[\u001b[49m\u001b[43mi\u001b[49m\u001b[43m]\u001b[49m\u001b[43m[\u001b[49m\u001b[38;5;124;43m'\u001b[39;49m\u001b[38;5;124;43mThumbnail URL\u001b[39;49m\u001b[38;5;124;43m'\u001b[39;49m\u001b[43m]\u001b[49m\u001b[43m,\u001b[49m\u001b[38;5;124;43m\"\u001b[39;49m\u001b[38;5;124;43m/home/host_data/ThumbCrawlImage/\u001b[39;49m\u001b[38;5;124;43m\"\u001b[39;49m\u001b[38;5;241;43m+\u001b[39;49m\u001b[38;5;28;43mstr\u001b[39;49m\u001b[43m(\u001b[49m\u001b[43mi\u001b[49m\u001b[43m)\u001b[49m\u001b[38;5;241;43m+\u001b[39;49m\u001b[38;5;124;43m\"\u001b[39;49m\u001b[38;5;124;43m.jpg\u001b[39;49m\u001b[38;5;124;43m\"\u001b[39;49m\u001b[43m)\u001b[49m\n\u001b[1;32m     16\u001b[0m \u001b[38;5;66;03m#     append_to_txt_file(loaded_df.loc[i]['Title'], f\"{i}.jpg\",txt_path)\u001b[39;00m\n\u001b[1;32m     17\u001b[0m     \u001b[38;5;28mprint\u001b[39m(\u001b[38;5;124m\"\u001b[39m\u001b[38;5;124m-----\u001b[39m\u001b[38;5;124m\"\u001b[39m)\n",
      "Cell \u001b[0;32mIn[23], line 3\u001b[0m, in \u001b[0;36mdownload\u001b[0;34m(url, file_name)\u001b[0m\n\u001b[1;32m      1\u001b[0m \u001b[38;5;28;01mdef\u001b[39;00m \u001b[38;5;21mdownload\u001b[39m(url, file_name):\n\u001b[1;32m      2\u001b[0m     \u001b[38;5;28;01mwith\u001b[39;00m \u001b[38;5;28mopen\u001b[39m(file_name, \u001b[38;5;124m\"\u001b[39m\u001b[38;5;124mwb\u001b[39m\u001b[38;5;124m\"\u001b[39m) \u001b[38;5;28;01mas\u001b[39;00m file:   \u001b[38;5;66;03m# open in binary mode\u001b[39;00m\n\u001b[0;32m----> 3\u001b[0m         response \u001b[38;5;241m=\u001b[39m \u001b[43mget\u001b[49m\u001b[43m(\u001b[49m\u001b[43murl\u001b[49m\u001b[43m)\u001b[49m               \u001b[38;5;66;03m# get request\u001b[39;00m\n\u001b[1;32m      4\u001b[0m         file\u001b[38;5;241m.\u001b[39mwrite(response\u001b[38;5;241m.\u001b[39mcontent)\n",
      "File \u001b[0;32m/usr/local/lib/python3.8/dist-packages/requests/api.py:73\u001b[0m, in \u001b[0;36mget\u001b[0;34m(url, params, **kwargs)\u001b[0m\n\u001b[1;32m     62\u001b[0m \u001b[38;5;28;01mdef\u001b[39;00m \u001b[38;5;21mget\u001b[39m(url, params\u001b[38;5;241m=\u001b[39m\u001b[38;5;28;01mNone\u001b[39;00m, \u001b[38;5;241m*\u001b[39m\u001b[38;5;241m*\u001b[39mkwargs):\n\u001b[1;32m     63\u001b[0m     \u001b[38;5;124mr\u001b[39m\u001b[38;5;124;03m\"\"\"Sends a GET request.\u001b[39;00m\n\u001b[1;32m     64\u001b[0m \n\u001b[1;32m     65\u001b[0m \u001b[38;5;124;03m    :param url: URL for the new :class:`Request` object.\u001b[39;00m\n\u001b[0;32m   (...)\u001b[0m\n\u001b[1;32m     70\u001b[0m \u001b[38;5;124;03m    :rtype: requests.Response\u001b[39;00m\n\u001b[1;32m     71\u001b[0m \u001b[38;5;124;03m    \"\"\"\u001b[39;00m\n\u001b[0;32m---> 73\u001b[0m     \u001b[38;5;28;01mreturn\u001b[39;00m \u001b[43mrequest\u001b[49m\u001b[43m(\u001b[49m\u001b[38;5;124;43m\"\u001b[39;49m\u001b[38;5;124;43mget\u001b[39;49m\u001b[38;5;124;43m\"\u001b[39;49m\u001b[43m,\u001b[49m\u001b[43m \u001b[49m\u001b[43murl\u001b[49m\u001b[43m,\u001b[49m\u001b[43m \u001b[49m\u001b[43mparams\u001b[49m\u001b[38;5;241;43m=\u001b[39;49m\u001b[43mparams\u001b[49m\u001b[43m,\u001b[49m\u001b[43m \u001b[49m\u001b[38;5;241;43m*\u001b[39;49m\u001b[38;5;241;43m*\u001b[39;49m\u001b[43mkwargs\u001b[49m\u001b[43m)\u001b[49m\n",
      "File \u001b[0;32m/usr/local/lib/python3.8/dist-packages/requests/api.py:59\u001b[0m, in \u001b[0;36mrequest\u001b[0;34m(method, url, **kwargs)\u001b[0m\n\u001b[1;32m     55\u001b[0m \u001b[38;5;66;03m# By using the 'with' statement we are sure the session is closed, thus we\u001b[39;00m\n\u001b[1;32m     56\u001b[0m \u001b[38;5;66;03m# avoid leaving sockets open which can trigger a ResourceWarning in some\u001b[39;00m\n\u001b[1;32m     57\u001b[0m \u001b[38;5;66;03m# cases, and look like a memory leak in others.\u001b[39;00m\n\u001b[1;32m     58\u001b[0m \u001b[38;5;28;01mwith\u001b[39;00m sessions\u001b[38;5;241m.\u001b[39mSession() \u001b[38;5;28;01mas\u001b[39;00m session:\n\u001b[0;32m---> 59\u001b[0m     \u001b[38;5;28;01mreturn\u001b[39;00m \u001b[43msession\u001b[49m\u001b[38;5;241;43m.\u001b[39;49m\u001b[43mrequest\u001b[49m\u001b[43m(\u001b[49m\u001b[43mmethod\u001b[49m\u001b[38;5;241;43m=\u001b[39;49m\u001b[43mmethod\u001b[49m\u001b[43m,\u001b[49m\u001b[43m \u001b[49m\u001b[43murl\u001b[49m\u001b[38;5;241;43m=\u001b[39;49m\u001b[43murl\u001b[49m\u001b[43m,\u001b[49m\u001b[43m \u001b[49m\u001b[38;5;241;43m*\u001b[39;49m\u001b[38;5;241;43m*\u001b[39;49m\u001b[43mkwargs\u001b[49m\u001b[43m)\u001b[49m\n",
      "File \u001b[0;32m/usr/local/lib/python3.8/dist-packages/requests/sessions.py:587\u001b[0m, in \u001b[0;36mSession.request\u001b[0;34m(self, method, url, params, data, headers, cookies, files, auth, timeout, allow_redirects, proxies, hooks, stream, verify, cert, json)\u001b[0m\n\u001b[1;32m    582\u001b[0m send_kwargs \u001b[38;5;241m=\u001b[39m {\n\u001b[1;32m    583\u001b[0m     \u001b[38;5;124m\"\u001b[39m\u001b[38;5;124mtimeout\u001b[39m\u001b[38;5;124m\"\u001b[39m: timeout,\n\u001b[1;32m    584\u001b[0m     \u001b[38;5;124m\"\u001b[39m\u001b[38;5;124mallow_redirects\u001b[39m\u001b[38;5;124m\"\u001b[39m: allow_redirects,\n\u001b[1;32m    585\u001b[0m }\n\u001b[1;32m    586\u001b[0m send_kwargs\u001b[38;5;241m.\u001b[39mupdate(settings)\n\u001b[0;32m--> 587\u001b[0m resp \u001b[38;5;241m=\u001b[39m \u001b[38;5;28;43mself\u001b[39;49m\u001b[38;5;241;43m.\u001b[39;49m\u001b[43msend\u001b[49m\u001b[43m(\u001b[49m\u001b[43mprep\u001b[49m\u001b[43m,\u001b[49m\u001b[43m \u001b[49m\u001b[38;5;241;43m*\u001b[39;49m\u001b[38;5;241;43m*\u001b[39;49m\u001b[43msend_kwargs\u001b[49m\u001b[43m)\u001b[49m\n\u001b[1;32m    589\u001b[0m \u001b[38;5;28;01mreturn\u001b[39;00m resp\n",
      "File \u001b[0;32m/usr/local/lib/python3.8/dist-packages/requests/sessions.py:701\u001b[0m, in \u001b[0;36mSession.send\u001b[0;34m(self, request, **kwargs)\u001b[0m\n\u001b[1;32m    698\u001b[0m start \u001b[38;5;241m=\u001b[39m preferred_clock()\n\u001b[1;32m    700\u001b[0m \u001b[38;5;66;03m# Send the request\u001b[39;00m\n\u001b[0;32m--> 701\u001b[0m r \u001b[38;5;241m=\u001b[39m \u001b[43madapter\u001b[49m\u001b[38;5;241;43m.\u001b[39;49m\u001b[43msend\u001b[49m\u001b[43m(\u001b[49m\u001b[43mrequest\u001b[49m\u001b[43m,\u001b[49m\u001b[43m \u001b[49m\u001b[38;5;241;43m*\u001b[39;49m\u001b[38;5;241;43m*\u001b[39;49m\u001b[43mkwargs\u001b[49m\u001b[43m)\u001b[49m\n\u001b[1;32m    703\u001b[0m \u001b[38;5;66;03m# Total elapsed time of the request (approximately)\u001b[39;00m\n\u001b[1;32m    704\u001b[0m elapsed \u001b[38;5;241m=\u001b[39m preferred_clock() \u001b[38;5;241m-\u001b[39m start\n",
      "File \u001b[0;32m/usr/local/lib/python3.8/dist-packages/requests/adapters.py:489\u001b[0m, in \u001b[0;36mHTTPAdapter.send\u001b[0;34m(self, request, stream, timeout, verify, cert, proxies)\u001b[0m\n\u001b[1;32m    487\u001b[0m \u001b[38;5;28;01mtry\u001b[39;00m:\n\u001b[1;32m    488\u001b[0m     \u001b[38;5;28;01mif\u001b[39;00m \u001b[38;5;129;01mnot\u001b[39;00m chunked:\n\u001b[0;32m--> 489\u001b[0m         resp \u001b[38;5;241m=\u001b[39m \u001b[43mconn\u001b[49m\u001b[38;5;241;43m.\u001b[39;49m\u001b[43murlopen\u001b[49m\u001b[43m(\u001b[49m\n\u001b[1;32m    490\u001b[0m \u001b[43m            \u001b[49m\u001b[43mmethod\u001b[49m\u001b[38;5;241;43m=\u001b[39;49m\u001b[43mrequest\u001b[49m\u001b[38;5;241;43m.\u001b[39;49m\u001b[43mmethod\u001b[49m\u001b[43m,\u001b[49m\n\u001b[1;32m    491\u001b[0m \u001b[43m            \u001b[49m\u001b[43murl\u001b[49m\u001b[38;5;241;43m=\u001b[39;49m\u001b[43murl\u001b[49m\u001b[43m,\u001b[49m\n\u001b[1;32m    492\u001b[0m \u001b[43m            \u001b[49m\u001b[43mbody\u001b[49m\u001b[38;5;241;43m=\u001b[39;49m\u001b[43mrequest\u001b[49m\u001b[38;5;241;43m.\u001b[39;49m\u001b[43mbody\u001b[49m\u001b[43m,\u001b[49m\n\u001b[1;32m    493\u001b[0m \u001b[43m            \u001b[49m\u001b[43mheaders\u001b[49m\u001b[38;5;241;43m=\u001b[39;49m\u001b[43mrequest\u001b[49m\u001b[38;5;241;43m.\u001b[39;49m\u001b[43mheaders\u001b[49m\u001b[43m,\u001b[49m\n\u001b[1;32m    494\u001b[0m \u001b[43m            \u001b[49m\u001b[43mredirect\u001b[49m\u001b[38;5;241;43m=\u001b[39;49m\u001b[38;5;28;43;01mFalse\u001b[39;49;00m\u001b[43m,\u001b[49m\n\u001b[1;32m    495\u001b[0m \u001b[43m            \u001b[49m\u001b[43massert_same_host\u001b[49m\u001b[38;5;241;43m=\u001b[39;49m\u001b[38;5;28;43;01mFalse\u001b[39;49;00m\u001b[43m,\u001b[49m\n\u001b[1;32m    496\u001b[0m \u001b[43m            \u001b[49m\u001b[43mpreload_content\u001b[49m\u001b[38;5;241;43m=\u001b[39;49m\u001b[38;5;28;43;01mFalse\u001b[39;49;00m\u001b[43m,\u001b[49m\n\u001b[1;32m    497\u001b[0m \u001b[43m            \u001b[49m\u001b[43mdecode_content\u001b[49m\u001b[38;5;241;43m=\u001b[39;49m\u001b[38;5;28;43;01mFalse\u001b[39;49;00m\u001b[43m,\u001b[49m\n\u001b[1;32m    498\u001b[0m \u001b[43m            \u001b[49m\u001b[43mretries\u001b[49m\u001b[38;5;241;43m=\u001b[39;49m\u001b[38;5;28;43mself\u001b[39;49m\u001b[38;5;241;43m.\u001b[39;49m\u001b[43mmax_retries\u001b[49m\u001b[43m,\u001b[49m\n\u001b[1;32m    499\u001b[0m \u001b[43m            \u001b[49m\u001b[43mtimeout\u001b[49m\u001b[38;5;241;43m=\u001b[39;49m\u001b[43mtimeout\u001b[49m\u001b[43m,\u001b[49m\n\u001b[1;32m    500\u001b[0m \u001b[43m        \u001b[49m\u001b[43m)\u001b[49m\n\u001b[1;32m    502\u001b[0m     \u001b[38;5;66;03m# Send the request.\u001b[39;00m\n\u001b[1;32m    503\u001b[0m     \u001b[38;5;28;01melse\u001b[39;00m:\n\u001b[1;32m    504\u001b[0m         \u001b[38;5;28;01mif\u001b[39;00m \u001b[38;5;28mhasattr\u001b[39m(conn, \u001b[38;5;124m\"\u001b[39m\u001b[38;5;124mproxy_pool\u001b[39m\u001b[38;5;124m\"\u001b[39m):\n",
      "File \u001b[0;32m/usr/local/lib/python3.8/dist-packages/urllib3/connectionpool.py:703\u001b[0m, in \u001b[0;36mHTTPConnectionPool.urlopen\u001b[0;34m(self, method, url, body, headers, retries, redirect, assert_same_host, timeout, pool_timeout, release_conn, chunked, body_pos, **response_kw)\u001b[0m\n\u001b[1;32m    700\u001b[0m     \u001b[38;5;28mself\u001b[39m\u001b[38;5;241m.\u001b[39m_prepare_proxy(conn)\n\u001b[1;32m    702\u001b[0m \u001b[38;5;66;03m# Make the request on the httplib connection object.\u001b[39;00m\n\u001b[0;32m--> 703\u001b[0m httplib_response \u001b[38;5;241m=\u001b[39m \u001b[38;5;28;43mself\u001b[39;49m\u001b[38;5;241;43m.\u001b[39;49m\u001b[43m_make_request\u001b[49m\u001b[43m(\u001b[49m\n\u001b[1;32m    704\u001b[0m \u001b[43m    \u001b[49m\u001b[43mconn\u001b[49m\u001b[43m,\u001b[49m\n\u001b[1;32m    705\u001b[0m \u001b[43m    \u001b[49m\u001b[43mmethod\u001b[49m\u001b[43m,\u001b[49m\n\u001b[1;32m    706\u001b[0m \u001b[43m    \u001b[49m\u001b[43murl\u001b[49m\u001b[43m,\u001b[49m\n\u001b[1;32m    707\u001b[0m \u001b[43m    \u001b[49m\u001b[43mtimeout\u001b[49m\u001b[38;5;241;43m=\u001b[39;49m\u001b[43mtimeout_obj\u001b[49m\u001b[43m,\u001b[49m\n\u001b[1;32m    708\u001b[0m \u001b[43m    \u001b[49m\u001b[43mbody\u001b[49m\u001b[38;5;241;43m=\u001b[39;49m\u001b[43mbody\u001b[49m\u001b[43m,\u001b[49m\n\u001b[1;32m    709\u001b[0m \u001b[43m    \u001b[49m\u001b[43mheaders\u001b[49m\u001b[38;5;241;43m=\u001b[39;49m\u001b[43mheaders\u001b[49m\u001b[43m,\u001b[49m\n\u001b[1;32m    710\u001b[0m \u001b[43m    \u001b[49m\u001b[43mchunked\u001b[49m\u001b[38;5;241;43m=\u001b[39;49m\u001b[43mchunked\u001b[49m\u001b[43m,\u001b[49m\n\u001b[1;32m    711\u001b[0m \u001b[43m\u001b[49m\u001b[43m)\u001b[49m\n\u001b[1;32m    713\u001b[0m \u001b[38;5;66;03m# If we're going to release the connection in ``finally:``, then\u001b[39;00m\n\u001b[1;32m    714\u001b[0m \u001b[38;5;66;03m# the response doesn't need to know about the connection. Otherwise\u001b[39;00m\n\u001b[1;32m    715\u001b[0m \u001b[38;5;66;03m# it will also try to release it and we'll have a double-release\u001b[39;00m\n\u001b[1;32m    716\u001b[0m \u001b[38;5;66;03m# mess.\u001b[39;00m\n\u001b[1;32m    717\u001b[0m response_conn \u001b[38;5;241m=\u001b[39m conn \u001b[38;5;28;01mif\u001b[39;00m \u001b[38;5;129;01mnot\u001b[39;00m release_conn \u001b[38;5;28;01melse\u001b[39;00m \u001b[38;5;28;01mNone\u001b[39;00m\n",
      "File \u001b[0;32m/usr/local/lib/python3.8/dist-packages/urllib3/connectionpool.py:386\u001b[0m, in \u001b[0;36mHTTPConnectionPool._make_request\u001b[0;34m(self, conn, method, url, timeout, chunked, **httplib_request_kw)\u001b[0m\n\u001b[1;32m    384\u001b[0m \u001b[38;5;66;03m# Trigger any extra validation we need to do.\u001b[39;00m\n\u001b[1;32m    385\u001b[0m \u001b[38;5;28;01mtry\u001b[39;00m:\n\u001b[0;32m--> 386\u001b[0m     \u001b[38;5;28;43mself\u001b[39;49m\u001b[38;5;241;43m.\u001b[39;49m\u001b[43m_validate_conn\u001b[49m\u001b[43m(\u001b[49m\u001b[43mconn\u001b[49m\u001b[43m)\u001b[49m\n\u001b[1;32m    387\u001b[0m \u001b[38;5;28;01mexcept\u001b[39;00m (SocketTimeout, BaseSSLError) \u001b[38;5;28;01mas\u001b[39;00m e:\n\u001b[1;32m    388\u001b[0m     \u001b[38;5;66;03m# Py2 raises this as a BaseSSLError, Py3 raises it as socket timeout.\u001b[39;00m\n\u001b[1;32m    389\u001b[0m     \u001b[38;5;28mself\u001b[39m\u001b[38;5;241m.\u001b[39m_raise_timeout(err\u001b[38;5;241m=\u001b[39me, url\u001b[38;5;241m=\u001b[39murl, timeout_value\u001b[38;5;241m=\u001b[39mconn\u001b[38;5;241m.\u001b[39mtimeout)\n",
      "File \u001b[0;32m/usr/local/lib/python3.8/dist-packages/urllib3/connectionpool.py:1042\u001b[0m, in \u001b[0;36mHTTPSConnectionPool._validate_conn\u001b[0;34m(self, conn)\u001b[0m\n\u001b[1;32m   1040\u001b[0m \u001b[38;5;66;03m# Force connect early to allow us to validate the connection.\u001b[39;00m\n\u001b[1;32m   1041\u001b[0m \u001b[38;5;28;01mif\u001b[39;00m \u001b[38;5;129;01mnot\u001b[39;00m \u001b[38;5;28mgetattr\u001b[39m(conn, \u001b[38;5;124m\"\u001b[39m\u001b[38;5;124msock\u001b[39m\u001b[38;5;124m\"\u001b[39m, \u001b[38;5;28;01mNone\u001b[39;00m):  \u001b[38;5;66;03m# AppEngine might not have  `.sock`\u001b[39;00m\n\u001b[0;32m-> 1042\u001b[0m     \u001b[43mconn\u001b[49m\u001b[38;5;241;43m.\u001b[39;49m\u001b[43mconnect\u001b[49m\u001b[43m(\u001b[49m\u001b[43m)\u001b[49m\n\u001b[1;32m   1044\u001b[0m \u001b[38;5;28;01mif\u001b[39;00m \u001b[38;5;129;01mnot\u001b[39;00m conn\u001b[38;5;241m.\u001b[39mis_verified:\n\u001b[1;32m   1045\u001b[0m     warnings\u001b[38;5;241m.\u001b[39mwarn(\n\u001b[1;32m   1046\u001b[0m         (\n\u001b[1;32m   1047\u001b[0m             \u001b[38;5;124m\"\u001b[39m\u001b[38;5;124mUnverified HTTPS request is being made to host \u001b[39m\u001b[38;5;124m'\u001b[39m\u001b[38;5;132;01m%s\u001b[39;00m\u001b[38;5;124m'\u001b[39m\u001b[38;5;124m. \u001b[39m\u001b[38;5;124m\"\u001b[39m\n\u001b[0;32m   (...)\u001b[0m\n\u001b[1;32m   1052\u001b[0m         InsecureRequestWarning,\n\u001b[1;32m   1053\u001b[0m     )\n",
      "File \u001b[0;32m/usr/local/lib/python3.8/dist-packages/urllib3/connection.py:358\u001b[0m, in \u001b[0;36mHTTPSConnection.connect\u001b[0;34m(self)\u001b[0m\n\u001b[1;32m    356\u001b[0m \u001b[38;5;28;01mdef\u001b[39;00m \u001b[38;5;21mconnect\u001b[39m(\u001b[38;5;28mself\u001b[39m):\n\u001b[1;32m    357\u001b[0m     \u001b[38;5;66;03m# Add certificate verification\u001b[39;00m\n\u001b[0;32m--> 358\u001b[0m     \u001b[38;5;28mself\u001b[39m\u001b[38;5;241m.\u001b[39msock \u001b[38;5;241m=\u001b[39m conn \u001b[38;5;241m=\u001b[39m \u001b[38;5;28;43mself\u001b[39;49m\u001b[38;5;241;43m.\u001b[39;49m\u001b[43m_new_conn\u001b[49m\u001b[43m(\u001b[49m\u001b[43m)\u001b[49m\n\u001b[1;32m    359\u001b[0m     hostname \u001b[38;5;241m=\u001b[39m \u001b[38;5;28mself\u001b[39m\u001b[38;5;241m.\u001b[39mhost\n\u001b[1;32m    360\u001b[0m     tls_in_tls \u001b[38;5;241m=\u001b[39m \u001b[38;5;28;01mFalse\u001b[39;00m\n",
      "File \u001b[0;32m/usr/local/lib/python3.8/dist-packages/urllib3/connection.py:174\u001b[0m, in \u001b[0;36mHTTPConnection._new_conn\u001b[0;34m(self)\u001b[0m\n\u001b[1;32m    171\u001b[0m     extra_kw[\u001b[38;5;124m\"\u001b[39m\u001b[38;5;124msocket_options\u001b[39m\u001b[38;5;124m\"\u001b[39m] \u001b[38;5;241m=\u001b[39m \u001b[38;5;28mself\u001b[39m\u001b[38;5;241m.\u001b[39msocket_options\n\u001b[1;32m    173\u001b[0m \u001b[38;5;28;01mtry\u001b[39;00m:\n\u001b[0;32m--> 174\u001b[0m     conn \u001b[38;5;241m=\u001b[39m \u001b[43mconnection\u001b[49m\u001b[38;5;241;43m.\u001b[39;49m\u001b[43mcreate_connection\u001b[49m\u001b[43m(\u001b[49m\n\u001b[1;32m    175\u001b[0m \u001b[43m        \u001b[49m\u001b[43m(\u001b[49m\u001b[38;5;28;43mself\u001b[39;49m\u001b[38;5;241;43m.\u001b[39;49m\u001b[43m_dns_host\u001b[49m\u001b[43m,\u001b[49m\u001b[43m \u001b[49m\u001b[38;5;28;43mself\u001b[39;49m\u001b[38;5;241;43m.\u001b[39;49m\u001b[43mport\u001b[49m\u001b[43m)\u001b[49m\u001b[43m,\u001b[49m\u001b[43m \u001b[49m\u001b[38;5;28;43mself\u001b[39;49m\u001b[38;5;241;43m.\u001b[39;49m\u001b[43mtimeout\u001b[49m\u001b[43m,\u001b[49m\u001b[43m \u001b[49m\u001b[38;5;241;43m*\u001b[39;49m\u001b[38;5;241;43m*\u001b[39;49m\u001b[43mextra_kw\u001b[49m\n\u001b[1;32m    176\u001b[0m \u001b[43m    \u001b[49m\u001b[43m)\u001b[49m\n\u001b[1;32m    178\u001b[0m \u001b[38;5;28;01mexcept\u001b[39;00m SocketTimeout:\n\u001b[1;32m    179\u001b[0m     \u001b[38;5;28;01mraise\u001b[39;00m ConnectTimeoutError(\n\u001b[1;32m    180\u001b[0m         \u001b[38;5;28mself\u001b[39m,\n\u001b[1;32m    181\u001b[0m         \u001b[38;5;124m\"\u001b[39m\u001b[38;5;124mConnection to \u001b[39m\u001b[38;5;132;01m%s\u001b[39;00m\u001b[38;5;124m timed out. (connect timeout=\u001b[39m\u001b[38;5;132;01m%s\u001b[39;00m\u001b[38;5;124m)\u001b[39m\u001b[38;5;124m\"\u001b[39m\n\u001b[1;32m    182\u001b[0m         \u001b[38;5;241m%\u001b[39m (\u001b[38;5;28mself\u001b[39m\u001b[38;5;241m.\u001b[39mhost, \u001b[38;5;28mself\u001b[39m\u001b[38;5;241m.\u001b[39mtimeout),\n\u001b[1;32m    183\u001b[0m     )\n",
      "File \u001b[0;32m/usr/local/lib/python3.8/dist-packages/urllib3/util/connection.py:85\u001b[0m, in \u001b[0;36mcreate_connection\u001b[0;34m(address, timeout, source_address, socket_options)\u001b[0m\n\u001b[1;32m     83\u001b[0m     \u001b[38;5;28;01mif\u001b[39;00m source_address:\n\u001b[1;32m     84\u001b[0m         sock\u001b[38;5;241m.\u001b[39mbind(source_address)\n\u001b[0;32m---> 85\u001b[0m     \u001b[43msock\u001b[49m\u001b[38;5;241;43m.\u001b[39;49m\u001b[43mconnect\u001b[49m\u001b[43m(\u001b[49m\u001b[43msa\u001b[49m\u001b[43m)\u001b[49m\n\u001b[1;32m     86\u001b[0m     \u001b[38;5;28;01mreturn\u001b[39;00m sock\n\u001b[1;32m     88\u001b[0m \u001b[38;5;28;01mexcept\u001b[39;00m socket\u001b[38;5;241m.\u001b[39merror \u001b[38;5;28;01mas\u001b[39;00m e:\n",
      "\u001b[0;31mKeyboardInterrupt\u001b[0m: "
     ]
    }
   ],
   "source": [
    "def download(url, file_name):\n",
    "    with open(file_name, \"wb\") as file:   # open in binary mode\n",
    "        response = get(url)               # get request\n",
    "        file.write(response.content)      # write to file\n",
    "        \n",
    "def append_to_txt_file(title_str, image_name, txt_file_path):\n",
    "    f=open(txt_file_path, \"a\")\n",
    "    f.write(image_name+\" \"+title_str+\"\\n\")\n",
    "    \n",
    "txt_path=\"/home/host_data/ThumbCrawlImage/labels.txt\"\n",
    "for i in range(loaded_df.shape[0]):\n",
    "    print(f\"{i}----\")\n",
    "    print(loaded_df.loc[i]['Thumbnail URL'])\n",
    "    print(loaded_df.loc[i]['Title'])\n",
    "    download(loaded_df.loc[i]['Thumbnail URL'],\"/home/host_data/ThumbCrawlImage/\"+str(i)+\".jpg\")\n",
    "#     append_to_txt_file(loaded_df.loc[i]['Title'], f\"{i}.jpg\",txt_path)\n",
    "    print(\"-----\")"
   ]
  },
  {
   "cell_type": "code",
   "execution_count": null,
   "id": "3c31fa88",
   "metadata": {},
   "outputs": [],
   "source": []
  },
  {
   "cell_type": "code",
   "execution_count": null,
   "id": "d99e6627",
   "metadata": {},
   "outputs": [],
   "source": []
  }
 ],
 "metadata": {
  "kernelspec": {
   "display_name": "Python 3 (ipykernel)",
   "language": "python",
   "name": "python3"
  },
  "language_info": {
   "codemirror_mode": {
    "name": "ipython",
    "version": 3
   },
   "file_extension": ".py",
   "mimetype": "text/x-python",
   "name": "python",
   "nbconvert_exporter": "python",
   "pygments_lexer": "ipython3",
   "version": "3.8.10"
  }
 },
 "nbformat": 4,
 "nbformat_minor": 5
}
